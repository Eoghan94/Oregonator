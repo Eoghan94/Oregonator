{
 "cells": [
  {
   "cell_type": "markdown",
   "metadata": {},
   "source": [
    "# Welcome to the Chemical Clocks Module\n",
    "\n",
    "### A chemical clock is a type of chemical reaction that literally runs like clockwork. With many of these reactions, you can determine the chemical composition just by timing the reaction!"
   ]
  },
  {
   "cell_type": "markdown",
   "metadata": {},
   "source": [
    "- Here we will use Python to simulate the Belousov-Zhabotinsky (BZ) reaction. There are many different BZ reactions using different chemicals, but they all follow the same behavior.\n",
    "\n",
    "- This interesting reaction is \"oscillatory\". In the video you are about to see you will notice the color of the reaction mixture changing from red to green and then back again.\n",
    "\n",
    "- The math we will be using was developed at the University of Oregon! If you're curious about it, open this link in a new tab: http://www.scholarpedia.org/article/Oregonator\n",
    "\n",
    "# <font color='red'>_WARNING_</font>\n",
    "# <font color='red'>The chemicals used in the reactions you're about to see are hazardous. Do not attempt to recreate these reactions without adult supervision and proper personal protective equipment (goggles, gloves, etc.)</font>\n",
    "\n",
    "## Click the arrow on the left of the next cell TWICE to begin.\n",
    "## (This is how you'll be running blocks of code)"
   ]
  },
  {
   "cell_type": "code",
   "execution_count": 27,
   "metadata": {},
   "outputs": [
    {
     "data": {
      "text/html": [
       "<iframe width=\"560\" height=\"315\" src=\"https://www.youtube.com/embed/8xSqvlkL1hk\" frameborder=\"0\" allow=\"accelerometer; autoplay; clipboard-write; encrypted-media; gyroscope; picture-in-picture\" allowfullscreen></iframe>"
      ],
      "text/plain": [
       "<IPython.core.display.HTML object>"
      ]
     },
     "execution_count": 27,
     "metadata": {},
     "output_type": "execute_result"
    }
   ],
   "source": [
    "from IPython.display import HTML\n",
    "HTML('<iframe width=\"560\" height=\"315\" src=\"https://www.youtube.com/embed/8xSqvlkL1hk\" frameborder=\"0\" allow=\"accelerometer; autoplay; clipboard-write; encrypted-media; gyroscope; picture-in-picture\" allowfullscreen></iframe>')"
   ]
  },
  {
   "cell_type": "markdown",
   "metadata": {},
   "source": [
    "## As you can see, the color change happens QUICKLY, but at regular times. Click the arrow on the next box to watch a video of a different BZ reaction.\n",
    "\n",
    "- You'll notice it takes longer for the color to change.\n",
    "- When they speed up this video to 400x you can't even see the color change!"
   ]
  },
  {
   "cell_type": "code",
   "execution_count": 25,
   "metadata": {},
   "outputs": [
    {
     "data": {
      "text/html": [
       "<iframe width=\"560\" height=\"315\" src=\"https://www.youtube.com/embed/07n2WGg4WTc\" frameborder=\"0\" allow=\"accelerometer; autoplay; encrypted-media; gyroscope; picture-in-picture\" allowfullscreen></iframe>"
      ],
      "text/plain": [
       "<IPython.core.display.HTML object>"
      ]
     },
     "execution_count": 25,
     "metadata": {},
     "output_type": "execute_result"
    }
   ],
   "source": [
    "HTML('<iframe width=\"560\" height=\"315\" src=\"https://www.youtube.com/embed/07n2WGg4WTc\" frameborder=\"0\" allow=\"accelerometer; autoplay; encrypted-media; gyroscope; picture-in-picture\" allowfullscreen></iframe>')"
   ]
  },
  {
   "cell_type": "markdown",
   "metadata": {},
   "source": [
    "## The next video shows how the first reaction is made.\n",
    "## <font color='red'>__AGAIN, DO NOT TRY THIS AT HOME__</font>\n",
    "## <font color='red'>You WILL get hurt if you touch these chemicals.</font>"
   ]
  },
  {
   "cell_type": "code",
   "execution_count": 26,
   "metadata": {},
   "outputs": [
    {
     "data": {
      "text/html": [
       "<iframe width=\"560\" height=\"315\" src=\"https://www.youtube.com/embed/kw9wF-GNjqs\" frameborder=\"0\" allow=\"accelerometer; autoplay; clipboard-write; encrypted-media; gyroscope; picture-in-picture\" allowfullscreen></iframe>"
      ],
      "text/plain": [
       "<IPython.core.display.HTML object>"
      ]
     },
     "execution_count": 26,
     "metadata": {},
     "output_type": "execute_result"
    }
   ],
   "source": [
    "HTML('<iframe width=\"560\" height=\"315\" src=\"https://www.youtube.com/embed/kw9wF-GNjqs\" frameborder=\"0\" allow=\"accelerometer; autoplay; clipboard-write; encrypted-media; gyroscope; picture-in-picture\" allowfullscreen></iframe>')"
   ]
  },
  {
   "cell_type": "markdown",
   "metadata": {},
   "source": [
    "#### This module will show you how you can write code to model interesting science like this! And the best part?\n",
    "\n",
    "# You don't have to be \"good\" at math to do this!!!\n",
    "\n",
    "#### If someone has given you the equations you need, all you need to do is write them into the code and the computer does all the work for you!"
   ]
  },
  {
   "cell_type": "code",
   "execution_count": 4,
   "metadata": {},
   "outputs": [],
   "source": [
    "########################INSERT FIGURE WITH THE EQUATIONS########################\n",
    "########################INSERT FIGURE WITH THE EQUATIONS########################\n",
    "########################INSERT FIGURE WITH THE EQUATIONS########################\n",
    "########################INSERT FIGURE WITH THE EQUATIONS########################\n",
    "########################INSERT FIGURE WITH THE EQUATIONS########################\n",
    "########################INSERT FIGURE WITH THE EQUATIONS########################\n",
    "########################INSERT FIGURE WITH THE EQUATIONS########################\n",
    "########################INSERT FIGURE WITH THE EQUATIONS########################\n",
    "########################INSERT FIGURE WITH THE EQUATIONS########################\n",
    "########################INSERT FIGURE WITH THE EQUATIONS########################"
   ]
  },
  {
   "cell_type": "markdown",
   "metadata": {},
   "source": [
    "### You won't understand these equations unless you've taken a college-level math class (but you don't need to understand them here).\n",
    "\n",
    "### You only need to understand a few important things:\n",
    "- The \"fractions\" tell us how fast the reaction is happening (basically how fast the color is changing). We call these the \"rates\" of reaction.\n",
    "- There are a bunch of chemicals floating around in that beaker, but the only chemicals that matter are chemical X, chemical Y and chemical Z.\n",
    "- The little x, little y and little z tell us how much of each chemical is in the mixture. All of the other letters are just numbers we get to choose."
   ]
  },
  {
   "cell_type": "markdown",
   "metadata": {},
   "source": [
    "## Let's get started! Click the arrows next to each block as you go through the module\n",
    "\n",
    "#### First, we need to tell Python where to look for the code we'll need. This code is stored in a so-called \"library\".\n",
    "#### To access the code in these libraries, we tell Python to \"import\" the code.\n",
    "#### I wrote in some comments if you're curious about what the libraries are for. You can learn more about them by searching them on Google (or your favorite search engine)."
   ]
  },
  {
   "cell_type": "code",
   "execution_count": 1,
   "metadata": {},
   "outputs": [],
   "source": [
    "#######################This stuff is for all the fun buttons you'll be clicking#######################\n",
    "\n",
    "from __future__ import print_function\n",
    "from ipywidgets import interact, interactive, fixed, interact_manual\n",
    "import ipywidgets as widgets\n",
    "\n",
    "#######################This is for the pictures I put in here######################################\n",
    "from IPython.display import Image\n",
    "\n",
    "###################These tell python where to find the math stuff it needs and how to make plots######\n",
    "get_ipython().run_line_magic('matplotlib', 'inline')\n",
    "import math\n",
    "import random\n",
    "from matplotlib import pyplot as plt\n",
    "from scipy.integrate import odeint\n",
    "import numpy as np"
   ]
  },
  {
   "cell_type": "markdown",
   "metadata": {},
   "source": [
    "## The next few blocks show the reactions we'll be thinking about, and how we record the parameters in the code.\n",
    "#### The parameters are just numbers the computer will need to solve the equations.\n",
    "#### The following table shows the steps in one kind of BZ reaction. The model we're using simplifies this.\n",
    "#### The k's on the right side of this table are called \"rate constants\". These tell us how fast each step will happen.\n",
    "## Don't worry too much about understanding this."
   ]
  },
  {
   "cell_type": "markdown",
   "metadata": {},
   "source": [
    "![Image of Reactions](http://www.scholarpedia.org/w/images/4/48/Table1.jpg)"
   ]
  },
  {
   "cell_type": "code",
   "execution_count": 12,
   "metadata": {},
   "outputs": [],
   "source": [
    "def initialize(pH, x, y, z, A, B, timeStep, T):\n",
    "    \n",
    "    #These are the rate constants for the reaction.\n",
    "    #R indicates the forward reaction (r for \"right\")\n",
    "    #L indicates the reverse reaction (l for \"left)\n",
    "    \n",
    "    kR1 = 8e9   #M^-2*s^-1\n",
    "    kL1 = 110   #s^-1\n",
    "    kR2 = 3e6   #M^-2*s^-1\n",
    "    kL2 = 2e-5  #M^-1*s^-1\n",
    "    kR3 = 2     #M^-3*s^-1\n",
    "    kL3 = 3.2   #M^-1*s^-1\n",
    "    kR4 = 3e3   #M^-1*s^-1\n",
    "    kL4 = 1e-8  #M^-2*s^-1\n",
    "    kR5 = 42    #M^-2*s^-1\n",
    "    kL5 = 2.2e3 #s^-1\n",
    "    kR5a = 7.4e4 #s^-1\n",
    "    kL5a = 1.4e9 #M^-1*s^-1\n",
    "    kR6 = 8e4   #M^-2*s^-1\n",
    "    kL6 = 8.9e3 #M^-1*s^-1\n",
    "    \n",
    "    f = 1\n",
    "    kc = 1\n",
    "    #This is pretty messy right? The Oregonator model makes things WAY more simple!\n",
    "    #We're going to make things simple by introducing new rate constants!\n",
    "    \n",
    "    H = 10**(-pH)\n",
    "    \n",
    "    k1 = kR3*H**2    \n",
    "    k2 = kR2*H\n",
    "    k3 = kR5*H\n",
    "    k4 = kR4*H\n",
    "    \n",
    "    #Here are our scaling factors:\n",
    "    \n",
    "    q = 2*k1*k4/(k2*k3)\n",
    "    epsilon = kc*B/(k3*A)\n",
    "    eprime = 2*kc*k4*B/(k2*k3*A)\n",
    "    \n",
    "    #Here are our scaled initial concentrations for X, Y, and Z:\n",
    "    #x0 = 1.0 #2*k4*X/(k3*A)\n",
    "    #y0 = 1.0 #k3*Y/(k3*A)\n",
    "    #z0 = 1.0 #kc*k4*B*Z/(k3*A)**2\n",
    "    \n",
    "    #Finally, here's where the model figures out how many scaled timesteps to run for:\n",
    "    N = math.floor(T/timeStep) #Floor because computers start counting at 0\n",
    "    \n",
    "    params = {'q':q, \n",
    "              'f':f,\n",
    "              'epsilon' : epsilon,\n",
    "              'eprime' : eprime,\n",
    "              'x0' : x,\n",
    "              'y0' : y,\n",
    "              'z0' : z,\n",
    "              'T' : T,\n",
    "              'N' : N}\n",
    "    \n",
    "    #print(k3*A/(2*k4))\n",
    "    #print(k3*A/(k3))\n",
    "    #print((k3*A)**2/(kc*k4*B))\n",
    "    \n",
    "    return params"
   ]
  },
  {
   "cell_type": "markdown",
   "metadata": {},
   "source": [
    "## Those complicated equations from before don't seem so bad once we put them into our code, as you'll see in the next block.\n",
    "\n",
    "#### The first function in the next block is what our equations look like in the code.\n",
    "#### The second function tells the computer how to solve those equations."
   ]
  },
  {
   "cell_type": "code",
   "execution_count": 3,
   "metadata": {},
   "outputs": [],
   "source": [
    "#The rRate function (short for \"reaction rate\") computes the rates for the system as an array\n",
    "\n",
    "def rRate(u, t, q, f, epsilon, eprime):\n",
    "    \n",
    "    x, y, z = u\n",
    "    \n",
    "    rx = (q*y - x*y + x*(1 - x))/epsilon\n",
    "    ry = (-q*y - x*y + f*z)/eprime\n",
    "    rz = x - z\n",
    "    \n",
    "    r = [rx, ry, rz]\n",
    "    \n",
    "    return r\n",
    "\n",
    "\n",
    "#The \"concs\" (short for \"concentrations\") function solves the equations\n",
    "\n",
    "def concs(prms):\n",
    "    \n",
    "    q = prms.get('q')\n",
    "    f = prms.get('f')\n",
    "    eprime = prms.get('eprime')\n",
    "    epsilon = prms.get('epsilon')\n",
    "    T = prms.get('T')\n",
    "    N = prms.get('N')\n",
    "    \n",
    "    #We will have u0 hold the initial concentrations\n",
    "    u0 = [prms.get('x0'), prms.get('y0'), prms.get('z0')]\n",
    "    \n",
    "    \n",
    "    #Time points to solve at:\n",
    "    t = np.linspace(0, T, num = N)\n",
    "    \n",
    "    #Here is where it all comes together\n",
    "    sol = odeint(rRate, u0, t, args = (q, f, epsilon, eprime))\n",
    "    \n",
    "    return sol, t"
   ]
  },
  {
   "cell_type": "markdown",
   "metadata": {},
   "source": [
    "# Now we get to have some fun! Like real scientists, you're going to change the parameters.\n",
    "\n",
    "- The pH measures the acidity of the reaction solution. As you'll see, this needs to be VERY acidic (low pH). You don't want to touch this with your bare hands.\n",
    "- x, y, and z are the amounts of the three chemicals that make the color change happen.\n",
    "- A and B are \"helper\" chemicals called catalysts. Without them, the reaction wouldn't happen\n",
    "\n",
    "- Finally, we need to tell the computer how much time we want the reaction to run. It does this multiplying those equations from - before by a \"time step\" (a really small amount of time) a bunch of times.\n",
    "- You can think about this like filming a movie. The camera takes a bunch of pictures really fast, and when you flip through the pictures it looks like they're moving.\n",
    "- Like filming a movie, this will only work if you take A LOT of pictures."
   ]
  },
  {
   "cell_type": "markdown",
   "metadata": {},
   "source": [
    "# Run the next block, then click and drag the scrollers to set the parameters:\n",
    "- Set the pH to 0.10 (this would hurt if it got on your skin)\n",
    "- Set x, y, and z to 1.00 (just drag the scroller all the way to the right).\n",
    "- Set A = 0.06\n",
    "- Set B = 0.02\n",
    "\n",
    "- Set the timeStep to 0.0001 (this is not in seconds, as we'll see soon)\n",
    "- Set T = 30. This means there the computer will solve the equations for 300,000 time steps!\n",
    "\n",
    "### Now, let's take those numbers we chose and have the computer tell us what will happen:"
   ]
  },
  {
   "cell_type": "code",
   "execution_count": 13,
   "metadata": {},
   "outputs": [
    {
     "data": {
      "application/vnd.jupyter.widget-view+json": {
       "model_id": "3bb26d2e793642d491251f39a232e2be",
       "version_major": 2,
       "version_minor": 0
      },
      "text/plain": [
       "interactive(children=(FloatSlider(value=0.0, description='pH', max=1.0, step=0.01), FloatSlider(value=0.5, des…"
      ]
     },
     "metadata": {},
     "output_type": "display_data"
    }
   ],
   "source": [
    "chosen_params = interact(initialize,\n",
    "                          pH = (0,1,0.01),\n",
    "                          x = (0.1,1,0.1),\n",
    "                          y = (0.1,1,0.1),\n",
    "                          z = (0.1,1,0.1),\n",
    "                          A = (0.01,0.1,0.01),\n",
    "                          B = (0.01,0.1,0.01),\n",
    "                          timeStep = [0.0001, 0.001, 0.1],\n",
    "                          T = (10, 50,1))"
   ]
  },
  {
   "cell_type": "code",
   "execution_count": 29,
   "metadata": {},
   "outputs": [
    {
     "data": {
      "image/png": "[encoded data removed]",
      "text/plain": [
       "<Figure size 432x288 with 1 Axes>"
      ]
     },
     "metadata": {
      "needs_background": "light"
     },
     "output_type": "display_data"
    },
    {
     "data": {
      "image/png": "[encoded data removed]",
      "text/plain": [
       "<Figure size 432x288 with 1 Axes>"
      ]
     },
     "metadata": {
      "needs_background": "light"
     },
     "output_type": "display_data"
    },
    {
     "data": {
      "image/png": "[encoded data removed]",
      "text/plain": [
       "<Figure size 432x288 with 1 Axes>"
      ]
     },
     "metadata": {
      "needs_background": "light"
     },
     "output_type": "display_data"
    }
   ],
   "source": [
    "solution, time = concs(chosen_params.widget.result)\n",
    "\n",
    "plt.plot(time, solution[:, 0], 'b', label='x')\n",
    "plt.legend(loc='best')\n",
    "plt.xlabel('t')\n",
    "plt.ylabel('Amount of Chemical X')\n",
    "plt.grid()\n",
    "plt.show()\n",
    "##############################################\n",
    "##############################################\n",
    "\n",
    "plt.plot(time, solution[:, 1], 'g', label='y')\n",
    "plt.legend(loc='best')\n",
    "plt.ylabel('Amount of Chemical Y')\n",
    "plt.xlabel('t')\n",
    "plt.grid()\n",
    "plt.show()\n",
    "##############################################\n",
    "##############################################\n",
    "\n",
    "plt.plot(time, solution[:, 2], 'r', label='z')\n",
    "plt.legend(loc='best')\n",
    "plt.ylabel('Amount of Chemical Z')\n",
    "plt.xlabel('t')\n",
    "plt.grid()\n",
    "plt.show()"
   ]
  },
  {
   "cell_type": "code",
   "execution_count": 30,
   "metadata": {},
   "outputs": [
    {
     "data": {
      "image/png": "[encoded data removed]",
      "text/plain": [
       "<Figure size 432x288 with 1 Axes>"
      ]
     },
     "metadata": {
      "needs_background": "light"
     },
     "output_type": "display_data"
    },
    {
     "data": {
      "image/png": "[encoded data removed]",
      "text/plain": [
       "<Figure size 432x288 with 1 Axes>"
      ]
     },
     "metadata": {
      "needs_background": "light"
     },
     "output_type": "display_data"
    }
   ],
   "source": [
    "plt.plot(time, solution[:, 1], 'g', label='y')\n",
    "plt.legend(loc='best')\n",
    "plt.xlabel('t')\n",
    "plt.ylabel('Amount of Chemical')\n",
    "plt.grid()\n",
    "plt.show()\n",
    "##############################################\n",
    "##############################################\n",
    "\n",
    "plt.plot(time, solution[:, 0], 'b', label='x')\n",
    "plt.plot(time, solution[:, 2], 'r', label='z')\n",
    "plt.legend(loc='best')\n",
    "plt.xlabel('t')\n",
    "plt.ylabel('Amount of Chemical')\n",
    "plt.grid()\n",
    "plt.show()"
   ]
  },
  {
   "cell_type": "code",
   "execution_count": null,
   "metadata": {},
   "outputs": [],
   "source": []
  }
 ],
 "metadata": {
  "kernelspec": {
   "display_name": "Python 3",
   "language": "python",
   "name": "python3"
  },
  "language_info": {
   "codemirror_mode": {
    "name": "ipython",
    "version": 3
   },
   "file_extension": ".py",
   "mimetype": "text/x-python",
   "name": "python",
   "nbconvert_exporter": "python",
   "pygments_lexer": "ipython3",
   "version": "3.7.4"
  }
 },
 "nbformat": 4,
 "nbformat_minor": 4
}
